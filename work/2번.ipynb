{
 "cells": [
  {
   "cell_type": "code",
   "execution_count": null,
   "id": "3bc95679",
   "metadata": {},
   "outputs": [],
   "source": [
    "import pandas as pd\n",
    "import numpy as np\n",
    "import matplotlib.pyplot as plt\n",
    "from scipy import stats"
   ]
  },
  {
   "cell_type": "code",
   "execution_count": null,
   "id": "0362717c",
   "metadata": {},
   "outputs": [],
   "source": [
    "file_path = 'data/drinks.csv'\n",
    "drinks = pd.read_csv(file_path)"
   ]
  },
  {
   "cell_type": "code",
   "execution_count": null,
   "id": "e7a52d26",
   "metadata": {},
   "outputs": [],
   "source": [
    "euro=drinks[drinks['continent']==\"EU\"]#유럽 국가만 데이터 뽑음\n",
    "corr=euro[['beer_servings','wine_servings']].corr(method='pearson')#맥주 와인 데이터 상관계수 함수"
   ]
  }
 ],
 "metadata": {
  "kernelspec": {
   "display_name": "Python 3 (ipykernel)",
   "language": "python",
   "name": "python3"
  },
  "language_info": {
   "codemirror_mode": {
    "name": "ipython",
    "version": 3
   },
   "file_extension": ".py",
   "mimetype": "text/x-python",
   "name": "python",
   "nbconvert_exporter": "python",
   "pygments_lexer": "ipython3",
   "version": "3.8.16"
  }
 },
 "nbformat": 4,
 "nbformat_minor": 5
}
