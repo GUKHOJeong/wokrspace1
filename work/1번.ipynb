{
 "cells": [
  {
   "cell_type": "code",
   "execution_count": null,
   "id": "3ae170fe",
   "metadata": {},
   "outputs": [],
   "source": [
    "import pandas as pd\n",
    "import numpy as np\n",
    "import matplotlib.pyplot as plt\n",
    "from scipy import stats"
   ]
  },
  {
   "cell_type": "code",
   "execution_count": null,
   "id": "6f47793b",
   "metadata": {},
   "outputs": [],
   "source": [
    "##1번\n",
    "file_path = 'data/chipotle.tsv'#데이터 경로\n",
    "chipo = pd.read_csv(file_path, sep = '\\t')#데이터 읽기"
   ]
  },
  {
   "cell_type": "code",
   "execution_count": null,
   "id": "ccf04ca0",
   "metadata": {},
   "outputs": [],
   "source": [
    "# 아이템 price를 수치형으로 변환\n",
    "chipo['item_price'] = chipo['item_price'].apply(lambda x: float(x[1:]))"
   ]
  },
  {
   "cell_type": "code",
   "execution_count": null,
   "id": "7cbf32f3",
   "metadata": {},
   "outputs": [],
   "source": [
    "item=chipo.groupby(chipo['item_name']).sum()#아이템 별 수치 합\n",
    "item_price=item['item_price'].sort_values(ascending=False)# 아이템 별 총가격 내림차순으로 정렬\n",
    "item_price.head(10)#상위 10개 출력"
   ]
  }
 ],
 "metadata": {
  "kernelspec": {
   "display_name": "Python 3 (ipykernel)",
   "language": "python",
   "name": "python3"
  },
  "language_info": {
   "codemirror_mode": {
    "name": "ipython",
    "version": 3
   },
   "file_extension": ".py",
   "mimetype": "text/x-python",
   "name": "python",
   "nbconvert_exporter": "python",
   "pygments_lexer": "ipython3",
   "version": "3.8.16"
  }
 },
 "nbformat": 4,
 "nbformat_minor": 5
}
